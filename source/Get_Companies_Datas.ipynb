{
 "cells": [
  {
   "cell_type": "code",
   "execution_count": null,
   "id": "e43e7e7b",
   "metadata": {},
   "outputs": [],
   "source": [
    "import requests\n",
    "import datetime\n",
    "import time\n",
    "import pandas as pd\n",
    "from io import open\n",
    "from numpy import record\n",
    "import json\n",
    "import bs4 as bs\n",
    "import re\n",
    "from config import url, headers"
   ]
  },
  {
   "cell_type": "code",
   "execution_count": null,
   "id": "556b2853",
   "metadata": {},
   "outputs": [],
   "source": [
    "# ORIGINAL URL: querystring = {\"url\":\"adobe.com\"}\n",
    "\n",
    "# Create dataframe for URL input\n",
    "url_df = pd.read_csv(\"compcom.csv\")\n",
    "print(url_df.head())"
   ]
  },
  {
   "cell_type": "code",
   "execution_count": null,
   "id": "6e345765",
   "metadata": {},
   "outputs": [],
   "source": [
    "# OUTPUT FILE\n",
    "output = open(\"StockFacts.json\", \"w\", encoding=\"utf-8\")\n",
    "print(output)"
   ]
  },
  {
   "cell_type": "code",
   "execution_count": null,
   "id": "bfb7c51e",
   "metadata": {},
   "outputs": [],
   "source": [
    "# get company revenue and employee_count\n",
    "with open(\"StockFacts.json\", \"w\",encoding=\"utf-8\") as outfile:\n",
    "    for record, row in url_df.iterrows():\n",
    "            # must do this\n",
    "            time.sleep(5)\n",
    "            querystring = json.loads(row['url'])\n",
    "            response = requests.request(\"GET\", url, headers=headers, params=querystring)\n",
    "            \n",
    "            \n",
    "            outfile.write(response.text)\n",
    "            print(response.text)"
   ]
  },
  {
   "cell_type": "code",
   "execution_count": null,
   "id": "9c65c429",
   "metadata": {},
   "outputs": [],
   "source": [
    "type(response)"
   ]
  },
  {
   "cell_type": "code",
   "execution_count": null,
   "id": "aef8543d",
   "metadata": {},
   "outputs": [],
   "source": [
    "outfile.close()\n",
    "print(\"We have the company data we need.\")"
   ]
  },
  {
   "cell_type": "code",
   "execution_count": null,
   "id": "52fd4434",
   "metadata": {},
   "outputs": [],
   "source": []
  },
  {
   "cell_type": "code",
   "execution_count": null,
   "id": "0660f438",
   "metadata": {},
   "outputs": [],
   "source": []
  },
  {
   "cell_type": "code",
   "execution_count": null,
   "id": "ca9af83d",
   "metadata": {},
   "outputs": [],
   "source": []
  },
  {
   "cell_type": "code",
   "execution_count": null,
   "id": "de49407f",
   "metadata": {},
   "outputs": [],
   "source": []
  },
  {
   "cell_type": "code",
   "execution_count": null,
   "id": "92994bce",
   "metadata": {},
   "outputs": [],
   "source": []
  },
  {
   "cell_type": "code",
   "execution_count": null,
   "id": "f0caeaa0",
   "metadata": {},
   "outputs": [],
   "source": []
  },
  {
   "cell_type": "code",
   "execution_count": null,
   "id": "9786d4de",
   "metadata": {},
   "outputs": [],
   "source": []
  }
 ],
 "metadata": {
  "kernelspec": {
   "display_name": "PythonData",
   "language": "python",
   "name": "pythondata"
  },
  "language_info": {
   "codemirror_mode": {
    "name": "ipython",
    "version": 3
   },
   "file_extension": ".py",
   "mimetype": "text/x-python",
   "name": "python",
   "nbconvert_exporter": "python",
   "pygments_lexer": "ipython3",
   "version": "3.7.10"
  }
 },
 "nbformat": 4,
 "nbformat_minor": 5
}
