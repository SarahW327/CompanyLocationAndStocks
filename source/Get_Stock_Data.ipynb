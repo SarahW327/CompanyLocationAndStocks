{
 "cells": [
  {
   "cell_type": "code",
   "execution_count": 8,
   "id": "73e25c70",
   "metadata": {},
   "outputs": [],
   "source": [
    "import requests\n",
    "import requests\n",
    "import pandas as pd\n",
    "from numpy import record\n",
    "import json\n",
    "import bs4 as bs\n",
    "import re\n",
    "from config import url, headers"
   ]
  },
  {
   "cell_type": "code",
   "execution_count": 9,
   "id": "d7a23889",
   "metadata": {},
   "outputs": [
    {
     "name": "stdout",
     "output_type": "stream",
     "text": [
      "  Ticker                          url\n",
      "0   MNST  {\"url\":\"monsterenergy.com\"}\n"
     ]
    }
   ],
   "source": [
    "# ORIGINAL URL: querystring = {\"url\":\"adobe.com\"}\n",
    "\n",
    "# Create dataframe for URL input\n",
    "url_df = pd.read_csv(\"compcom.csv\")\n",
    "print(url_df.head())"
   ]
  },
  {
   "cell_type": "code",
   "execution_count": 10,
   "id": "e053ac8a",
   "metadata": {},
   "outputs": [
    {
     "name": "stdout",
     "output_type": "stream",
     "text": [
      "<_io.TextIOWrapper name='StockFacts.json' mode='w' encoding='cp1252'>\n"
     ]
    }
   ],
   "source": [
    "# OUTPUT FILE\n",
    "output = open(f\"StockFacts.json\", \"w\")\n",
    "print(output)"
   ]
  },
  {
   "cell_type": "code",
   "execution_count": 11,
   "id": "75634b15",
   "metadata": {},
   "outputs": [
    {
     "name": "stdout",
     "output_type": "stream",
     "text": [
      "ticker, url, revenue, employee_count\n",
      "\n"
     ]
    },
    {
     "data": {
      "text/plain": [
       "37"
      ]
     },
     "execution_count": 11,
     "metadata": {},
     "output_type": "execute_result"
    }
   ],
   "source": [
    "# write header record once\n",
    "# record = f\"ticker, url, revenue, employee_count\\n\"\n",
    "# print(record)\n",
    "# output.write(record)\n"
   ]
  },
  {
   "cell_type": "code",
   "execution_count": 13,
   "id": "26b1864a",
   "metadata": {},
   "outputs": [
    {
     "name": "stdout",
     "output_type": "stream",
     "text": [
      "{\"result\":\"success\",\"data\":{\"name\":\"Monster Energy\",\"alternate_name\":null,\"domain\":\"monsterenergy.com\",\"domain_name\":\"monsterenergy\",\"domain_tld\":\"com\",\"business_type\":null,\"monthly_visitors\":\"10k-50k\",\"phone_number\":\"(800) 426-7367\",\"revenue\":\"over-1b\",\"size\":\"1k-5k\",\"year_founded\":2002,\"address\":\"1 monster way\",\"address_name\":\"Corona\",\"address_postal_code\":null,\"address_country_code\":\"US\",\"address_country\":\"United States\",\"address_lat\":33.8410146,\"address_lng\":-117.52079778811958,\"updated_at\":\"2020-09-24T21:44:19+00:00\",\"description\":\"Based in Corona, California, Monster Energy is a leading marketer and distributor of energy drinks and alternative beverages.  The company markets and distributes Monster Energy® energy drinks, Monster Energy Extra Strength Nitrous Technology® energy drinks, Java Monster® non-carbonated coffee + energy drinks, M3® Monster Energy® Super Concentrate energy drinks, Monster Rehab® non-carbonated energy drinks with electrolytes, Muscle Monster® Energy Shakes, Übermonster® energy drinks, NOS® energy drinks, Full Throttle® energy drinks, Burn® energy drinks, Mother® energy drinks, BU® energy drinks, Gladiator® energy drinks, Samurai® energy drinks, Nalu® energy drinks, BPM® energy drinks, Power Play® energy drinks, and Relentless® energy drinks.\\\\\\\\We offer a comprehensive compensation and benefits package which includes a competitive salary; company-paid medical, dental, vision, long-term disability and life insurance coverage; 401(k) with company match; generous employee discounts; a casual but driven work environment; and the ability to make a real difference as a key contributor to our growth. \\\\\\\\Most companies spend their money on ad agencies, TV commercials, radio spots, and billboards to tell you how good their products are. At Monster we choose none of the above. Instead, we support the scene, our bands, our athletes and our fans. We back athletes so they can make a career out of their passion. We promote concert tours, so our favorite bands can visit your home town. We celebrate with our fans and riders by throwing parties and making the coolest events we can think of a reality. \\\\\\\\This is the official Linked in company page for Monster Energy a leading marketer and distributor of energy drinks and alternative beverages.\\\\\\\\Monster is lifestyle in a can.\\\\\\\\\\\\Monster Energy is an affirmative action and equal opportunity employer.\",\"social_networks\":{\"angellist\":\"http://angel.co/monster-beverage-coperation\",\"facebook\":\"https://www.facebook.com/monsterenergy\",\"linkedin\":\"https://www.linkedin.com/company/monster-energy_2\",\"twitter\":\"https://www.twitter.com/monsterenergyjp\"},\"email_patterns\":[{\"pattern\":\"[F].[L]\",\"percentage\":99.869},{\"pattern\":\"[F1][L]\",\"percentage\":0.0655},{\"pattern\":\"[F1].[L]\",\"percentage\":0.0655}],\"technologies\":[],\"technology_categories\":[],\"industries\":[\"beverages\",\"consumer-goods\",\"consumers\",\"food\",\"fruit\",\"manufacturing\",\"vegetable-markets\"]}}\n"
     ]
    }
   ],
   "source": [
    "# get company revenue and employee_count\n",
    "for record, row in url_df.iterrows():\n",
    "        \n",
    "        querystring = json.loads(row['url'])\n",
    "        response = requests.request(\"GET\", url, headers=headers, params=querystring)\n",
    "        output.write(response.text)\n",
    "        print(response.text)\n",
    "        \n",
    "        \n",
    "        \n",
    "        # DO THIS LATER\n",
    "#         url_string = row['url']\n",
    "#         ticker = row['Ticker']\n",
    "        \n",
    "        \n",
    "        \n",
    "#         company_revenue = response.json()['data']['revenue']\n",
    "#         company_size = response.json()['data']['size']\n",
    "        \n",
    "#         print(f\"{ticker},{url_string},{company_revenue},{company_size}\\n\")\n",
    "#         record = f\"{ticker},{url_string},{company_revenue},{company_size}\\n\"\n",
    "        \n",
    "        "
   ]
  },
  {
   "cell_type": "code",
   "execution_count": 6,
   "id": "9d404a05",
   "metadata": {
    "scrolled": true
   },
   "outputs": [
    {
     "name": "stdout",
     "output_type": "stream",
     "text": [
      "0\n"
     ]
    }
   ],
   "source": [
    "print(record)\n"
   ]
  },
  {
   "cell_type": "code",
   "execution_count": 7,
   "id": "1cd0b8b3",
   "metadata": {},
   "outputs": [
    {
     "name": "stdout",
     "output_type": "stream",
     "text": [
      "We have the company data we need.\n"
     ]
    }
   ],
   "source": [
    "output.close()\n",
    "print(\"We have the company data we need.\")"
   ]
  },
  {
   "cell_type": "code",
   "execution_count": null,
   "id": "7aa6ea29",
   "metadata": {},
   "outputs": [],
   "source": []
  }
 ],
 "metadata": {
  "interpreter": {
   "hash": "ac712140178e7cc52aa16a959e91de524bf5a526c673ef8e3ae72df8d09161a7"
  },
  "kernelspec": {
   "display_name": "Python 3",
   "language": "python",
   "name": "python3"
  },
  "language_info": {
   "codemirror_mode": {
    "name": "ipython",
    "version": 3
   },
   "file_extension": ".py",
   "mimetype": "text/x-python",
   "name": "python",
   "nbconvert_exporter": "python",
   "pygments_lexer": "ipython3",
   "version": "3.7.10"
  }
 },
 "nbformat": 4,
 "nbformat_minor": 5
}
