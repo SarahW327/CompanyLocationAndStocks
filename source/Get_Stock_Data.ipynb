import requests
import datetime
import time
import pandas as pd
from io
import open
from numpy
import record
import json
import bs4 as bs
import re
from config
import url, headers

# ORIGINAL URL: querystring = { "url": "adobe.com" }

#
Create dataframe
for URL input
url_df = pd.read_csv("compcom.csv")
print(url_df.head())