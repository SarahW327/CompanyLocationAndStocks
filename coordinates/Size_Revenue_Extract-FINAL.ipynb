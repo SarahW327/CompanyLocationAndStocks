{
 "cells": [
  {
   "cell_type": "code",
   "execution_count": 1,
   "id": "eacc3dfa",
   "metadata": {},
   "outputs": [],
   "source": [
    "import json\n",
    "import pandas as pd"
   ]
  },
  {
   "cell_type": "code",
   "execution_count": 2,
   "id": "5e0c4f5f",
   "metadata": {},
   "outputs": [],
   "source": [
    "with open(\"../source/StockFacts.json\", 'r') as infile:\n",
    "    data = infile.read()\n",
    "    new_data = data.replace('}{', '},{')\n",
    "    json_data = json.loads(f'[{new_data}]')"
   ]
  },
  {
   "cell_type": "code",
   "execution_count": 3,
   "id": "5378b1d5",
   "metadata": {},
   "outputs": [],
   "source": [
    "tickers = pd.read_csv(\"../source/compcom.csv\")\n",
    "tickers_df = tickers.drop(columns=\"url\")"
   ]
  },
  {
   "cell_type": "code",
   "execution_count": 4,
   "id": "95c39e54",
   "metadata": {
    "scrolled": true
   },
   "outputs": [],
   "source": [
    "# # TEST RUN for revenue extraction\n",
    "# for x in range(len(json_data)):\n",
    "#     try:\n",
    "#         #json_data[x]['data']['revenue']\n",
    "#         print(x, json_data[x]['data']['revenue'])\n",
    "#     except: \n",
    "#         print(x, \"NaN\")"
   ]
  },
  {
   "cell_type": "code",
   "execution_count": 5,
   "id": "ce5358a6",
   "metadata": {
    "scrolled": true
   },
   "outputs": [],
   "source": [
    "# # TEST RUN for size extraction\n",
    "# for x in range(len(json_data)):\n",
    "#     try: \n",
    "#         print(x,json_data[x]['data']['size'])\n",
    "#     except:\n",
    "#         print(x,\"NaN\")"
   ]
  },
  {
   "cell_type": "code",
   "execution_count": 6,
   "id": "8c49ebdc",
   "metadata": {
    "scrolled": true
   },
   "outputs": [],
   "source": [
    "revenue = []\n",
    "for x in range(len(json_data)):\n",
    "    try:\n",
    "        #json_data[x]['data']['revenue']\n",
    "        revenue.append(json_data[x]['data']['revenue'])\n",
    "        \n",
    "    except: \n",
    "        revenue.append(\"NaN\")"
   ]
  },
  {
   "cell_type": "code",
   "execution_count": 7,
   "id": "bcade62a",
   "metadata": {},
   "outputs": [],
   "source": [
    "size = []\n",
    "for x in range(len(json_data)):\n",
    "    try:\n",
    "        #json_data[x]['data']['revenue']\n",
    "        size.append(json_data[x]['data']['size'])\n",
    "        \n",
    "    except: \n",
    "        size.append(\"NaN\")"
   ]
  },
  {
   "cell_type": "code",
   "execution_count": 8,
   "id": "d2945068",
   "metadata": {
    "scrolled": false
   },
   "outputs": [],
   "source": [
    "revenue_df = pd.DataFrame(revenue, columns = ['revenue'])"
   ]
  },
  {
   "cell_type": "code",
   "execution_count": 9,
   "id": "0771ec28",
   "metadata": {},
   "outputs": [],
   "source": [
    "size_df = pd.DataFrame(size, columns = ['size'])"
   ]
  },
  {
   "cell_type": "code",
   "execution_count": 11,
   "id": "58c2cf0c",
   "metadata": {
    "scrolled": true
   },
   "outputs": [
    {
     "data": {
      "text/html": [
       "<div>\n",
       "<style scoped>\n",
       "    .dataframe tbody tr th:only-of-type {\n",
       "        vertical-align: middle;\n",
       "    }\n",
       "\n",
       "    .dataframe tbody tr th {\n",
       "        vertical-align: top;\n",
       "    }\n",
       "\n",
       "    .dataframe thead th {\n",
       "        text-align: right;\n",
       "    }\n",
       "</style>\n",
       "<table border=\"1\" class=\"dataframe\">\n",
       "  <thead>\n",
       "    <tr style=\"text-align: right;\">\n",
       "      <th></th>\n",
       "      <th>Ticker</th>\n",
       "      <th>revenue</th>\n",
       "      <th>size</th>\n",
       "    </tr>\n",
       "  </thead>\n",
       "  <tbody>\n",
       "    <tr>\n",
       "      <th>0</th>\n",
       "      <td>AAPL</td>\n",
       "      <td>over-1b</td>\n",
       "      <td>over-10k</td>\n",
       "    </tr>\n",
       "    <tr>\n",
       "      <th>1</th>\n",
       "      <td>ABNB</td>\n",
       "      <td>200m-1b</td>\n",
       "      <td>5k-10k</td>\n",
       "    </tr>\n",
       "    <tr>\n",
       "      <th>2</th>\n",
       "      <td>ADBE</td>\n",
       "      <td>1m-10m</td>\n",
       "      <td>over-10k</td>\n",
       "    </tr>\n",
       "    <tr>\n",
       "      <th>3</th>\n",
       "      <td>ADI</td>\n",
       "      <td>over-1b</td>\n",
       "      <td>over-10k</td>\n",
       "    </tr>\n",
       "    <tr>\n",
       "      <th>4</th>\n",
       "      <td>ADP</td>\n",
       "      <td>over-1b</td>\n",
       "      <td>over-10k</td>\n",
       "    </tr>\n",
       "  </tbody>\n",
       "</table>\n",
       "</div>"
      ],
      "text/plain": [
       "  Ticker  revenue      size\n",
       "0   AAPL  over-1b  over-10k\n",
       "1   ABNB  200m-1b    5k-10k\n",
       "2   ADBE   1m-10m  over-10k\n",
       "3    ADI  over-1b  over-10k\n",
       "4    ADP  over-1b  over-10k"
      ]
     },
     "execution_count": 11,
     "metadata": {},
     "output_type": "execute_result"
    }
   ],
   "source": [
    "combine = [tickers_df, revenue_df, size_df]\n",
    "size_revenue_df = pd.concat(combine, axis=1)\n",
    "size_revenue_df.head()\n",
    "\n",
    "# figured adding ticker column would make it easier to join on SQL?? yes? no?"
   ]
  },
  {
   "cell_type": "code",
   "execution_count": 13,
   "id": "3460759d",
   "metadata": {},
   "outputs": [],
   "source": [
    "# if need to change \"none\" and \"NaN\" to zero value\n",
    "# size_revenue_df.fillna(0)"
   ]
  },
  {
   "cell_type": "code",
   "execution_count": 12,
   "id": "9f5dae26",
   "metadata": {},
   "outputs": [],
   "source": [
    "size_revenue_df.to_csv(\"../source/size_revenue_data.csv\")"
   ]
  }
 ],
 "metadata": {
  "kernelspec": {
   "display_name": "Python 3 (ipykernel)",
   "language": "python",
   "name": "python3"
  },
  "language_info": {
   "codemirror_mode": {
    "name": "ipython",
    "version": 3
   },
   "file_extension": ".py",
   "mimetype": "text/x-python",
   "name": "python",
   "nbconvert_exporter": "python",
   "pygments_lexer": "ipython3",
   "version": "3.8.8"
  }
 },
 "nbformat": 4,
 "nbformat_minor": 5
}
