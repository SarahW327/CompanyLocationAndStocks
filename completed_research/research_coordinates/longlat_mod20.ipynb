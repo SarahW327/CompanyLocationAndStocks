{
 "cells": [
  {
   "cell_type": "code",
   "execution_count": 1,
   "id": "aae04c45",
   "metadata": {},
   "outputs": [
    {
     "name": "stdout",
     "output_type": "stream",
     "text": [
      "47.62225397959184\n",
      "-122.33702828571428\n"
     ]
    }
   ],
   "source": [
    "#Longitude/Latitude finder for single address of HQ company (this one is Amazon)\n",
    "\n",
    "import requests\n",
    "import urllib.parse\n",
    "\n",
    "address = \"410 Terry Ave N, Seattle 98109, WA\"\n",
    "url = 'https://nominatim.openstreetmap.org/search/' + urllib.parse.quote(address) +'?format=json'\n",
    "\n",
    "response = requests.get(url).json()\n",
    "print(response[0][\"lat\"])\n",
    "print(response[0][\"lon\"])"
   ]
  },
  {
   "cell_type": "code",
   "execution_count": 2,
   "id": "76c10673",
   "metadata": {},
   "outputs": [],
   "source": [
    "from geopy.geocoders import GoogleV3, Nominatim"
   ]
  },
  {
   "cell_type": "code",
   "execution_count": 3,
   "id": "bae1bb7d",
   "metadata": {
    "scrolled": false
   },
   "outputs": [
    {
     "ename": "TypeError",
     "evalue": "'module' object is not callable",
     "output_type": "error",
     "traceback": [
      "\u001b[0;31m---------------------------------------------------------------------------\u001b[0m",
      "\u001b[0;31mTypeError\u001b[0m                                 Traceback (most recent call last)",
      "\u001b[0;32m/var/folders/s0/4pw78f5x71s0c1tjvk4mtcyr0000gn/T/ipykernel_18990/855507727.py\u001b[0m in \u001b[0;36m<module>\u001b[0;34m\u001b[0m\n\u001b[1;32m      6\u001b[0m \u001b[0mgeopy\u001b[0m\u001b[0;34m.\u001b[0m\u001b[0mgeocoders\u001b[0m\u001b[0;34m.\u001b[0m\u001b[0moptions\u001b[0m\u001b[0;34m.\u001b[0m\u001b[0mdefault_ssl_context\u001b[0m \u001b[0;34m=\u001b[0m \u001b[0mctx\u001b[0m\u001b[0;34m\u001b[0m\u001b[0;34m\u001b[0m\u001b[0m\n\u001b[1;32m      7\u001b[0m \u001b[0;34m\u001b[0m\u001b[0m\n\u001b[0;32m----> 8\u001b[0;31m \u001b[0mgeolocator\u001b[0m \u001b[0;34m=\u001b[0m \u001b[0mgeopy\u001b[0m\u001b[0;34m.\u001b[0m\u001b[0mgeocoders\u001b[0m\u001b[0;34m.\u001b[0m\u001b[0mnominatim\u001b[0m\u001b[0;34m(\u001b[0m\u001b[0muser_agent\u001b[0m\u001b[0;34m=\u001b[0m\u001b[0;34m\"geo_stocks\"\u001b[0m\u001b[0;34m)\u001b[0m\u001b[0;34m\u001b[0m\u001b[0;34m\u001b[0m\u001b[0m\n\u001b[0m\u001b[1;32m      9\u001b[0m \u001b[0mlocation\u001b[0m \u001b[0;34m=\u001b[0m \u001b[0mgeolocator\u001b[0m\u001b[0;34m.\u001b[0m\u001b[0mgeocode\u001b[0m\u001b[0;34m(\u001b[0m\u001b[0;34m\"Intel Corporation\"\u001b[0m\u001b[0;34m)\u001b[0m\u001b[0;34m\u001b[0m\u001b[0;34m\u001b[0m\u001b[0m\n",
      "\u001b[0;31mTypeError\u001b[0m: 'module' object is not callable"
     ]
    }
   ],
   "source": [
    "import certifi\n",
    "import ssl\n",
    "import geopy.geocoders\n",
    "\n",
    "ctx = ssl.create_default_context(cafile=certifi.where()) \n",
    "geopy.geocoders.options.default_ssl_context = ctx                                                       \n",
    "\n",
    "geolocator = geopy.geocoders.nominatim(user_agent=\"geo_stocks\")\n",
    "location = geolocator.geocode(\"Intel Corporation\") "
   ]
  },
  {
   "cell_type": "code",
   "execution_count": 15,
   "id": "a1215106",
   "metadata": {},
   "outputs": [],
   "source": [
    "from config import Google_Key"
   ]
  },
  {
   "cell_type": "code",
   "execution_count": 19,
   "id": "4acc33ab",
   "metadata": {},
   "outputs": [],
   "source": [
    "geolocator = geopy.geocoders"
   ]
  },
  {
   "cell_type": "code",
   "execution_count": 20,
   "id": "65c58112",
   "metadata": {},
   "outputs": [
    {
     "ename": "AttributeError",
     "evalue": "module 'geopy.geocoders.nominatim' has no attribute 'geocode'",
     "output_type": "error",
     "traceback": [
      "\u001b[0;31m---------------------------------------------------------------------------\u001b[0m",
      "\u001b[0;31mAttributeError\u001b[0m                            Traceback (most recent call last)",
      "\u001b[0;32m/var/folders/s0/4pw78f5x71s0c1tjvk4mtcyr0000gn/T/ipykernel_99232/1539471799.py\u001b[0m in \u001b[0;36m<module>\u001b[0;34m\u001b[0m\n\u001b[0;32m----> 1\u001b[0;31m \u001b[0mgeolocator\u001b[0m\u001b[0;34m.\u001b[0m\u001b[0mgeocode\u001b[0m\u001b[0;34m(\u001b[0m\u001b[0;34m\"Intel\"\u001b[0m\u001b[0;34m)\u001b[0m\u001b[0;34m\u001b[0m\u001b[0;34m\u001b[0m\u001b[0m\n\u001b[0m",
      "\u001b[0;31mAttributeError\u001b[0m: module 'geopy.geocoders.nominatim' has no attribute 'geocode'"
     ]
    }
   ],
   "source": [
    "geolocator.geocode(\"Intel\") "
   ]
  },
  {
   "cell_type": "code",
   "execution_count": 18,
   "id": "b7dd1d00",
   "metadata": {
    "scrolled": true
   },
   "outputs": [],
   "source": [
    "geolocator.geocode(\"Adobe Systems\")"
   ]
  },
  {
   "cell_type": "code",
   "execution_count": 8,
   "id": "bab9eae9",
   "metadata": {},
   "outputs": [
    {
     "ename": "NameError",
     "evalue": "name 'geolocator' is not defined",
     "output_type": "error",
     "traceback": [
      "\u001b[0;31m---------------------------------------------------------------------------\u001b[0m",
      "\u001b[0;31mNameError\u001b[0m                                 Traceback (most recent call last)",
      "\u001b[0;32m/var/folders/s0/4pw78f5x71s0c1tjvk4mtcyr0000gn/T/ipykernel_99232/4172133971.py\u001b[0m in \u001b[0;36m<module>\u001b[0;34m\u001b[0m\n\u001b[0;32m----> 1\u001b[0;31m \u001b[0mgeolocator\u001b[0m\u001b[0;34m.\u001b[0m\u001b[0mgeocode\u001b[0m\u001b[0;34m(\u001b[0m\u001b[0;34m\"Electronic Arts\"\u001b[0m\u001b[0;34m)\u001b[0m\u001b[0;34m\u001b[0m\u001b[0;34m\u001b[0m\u001b[0m\n\u001b[0m",
      "\u001b[0;31mNameError\u001b[0m: name 'geolocator' is not defined"
     ]
    }
   ],
   "source": [
    "geolocator.geocode(\"Electronic Arts\")"
   ]
  },
  {
   "cell_type": "code",
   "execution_count": 9,
   "id": "ca9e499f",
   "metadata": {},
   "outputs": [
    {
     "ename": "NameError",
     "evalue": "name 'geolocator' is not defined",
     "output_type": "error",
     "traceback": [
      "\u001b[0;31m---------------------------------------------------------------------------\u001b[0m",
      "\u001b[0;31mNameError\u001b[0m                                 Traceback (most recent call last)",
      "\u001b[0;32m/var/folders/s0/4pw78f5x71s0c1tjvk4mtcyr0000gn/T/ipykernel_99232/1741010885.py\u001b[0m in \u001b[0;36m<module>\u001b[0;34m\u001b[0m\n\u001b[0;32m----> 1\u001b[0;31m \u001b[0mgeolocator\u001b[0m\u001b[0;34m.\u001b[0m\u001b[0mgeocode\u001b[0m\u001b[0;34m(\u001b[0m\u001b[0;34m\"Apple Inc, Cupertino, CA\"\u001b[0m\u001b[0;34m)\u001b[0m\u001b[0;34m\u001b[0m\u001b[0;34m\u001b[0m\u001b[0m\n\u001b[0m",
      "\u001b[0;31mNameError\u001b[0m: name 'geolocator' is not defined"
     ]
    }
   ],
   "source": [
    "geolocator.geocode(\"Apple Inc, Cupertino, CA\")"
   ]
  },
  {
   "cell_type": "code",
   "execution_count": null,
   "id": "cd66dd82",
   "metadata": {},
   "outputs": [],
   "source": [
    "import requests\n",
    "from bs4 import BeautifulSoup\n",
    "\n",
    "company = 'google'\n",
    "\n",
    "url = 'https://corporateofficeheadquarters.org/'.format(c=company)\n",
    "\n",
    "r = requests.get(url)\n",
    "\n",
    "soup = BeautifulSoup(r.text, 'html.parser')\n",
    "\n",
    "endpoint = soup.find('a', href=True, attrs={'class': \"match-result-anchor\"})['href']\n",
    "\n",
    "url = 'https://corporateofficeheadquarters.org/{ep}'.format(ep=endpoint)\n",
    "\n",
    "r = requests.get(url)\n",
    "\n",
    "soup = BeautifulSoup(r.text, 'html.parser')\n",
    "\n",
    "HQ_address = soup.find_all('dd')[2]   # locate the Address Tag\n",
    "\n",
    "print(HQ_address.text) "
   ]
  },
  {
   "cell_type": "code",
   "execution_count": null,
   "id": "0fc6f60d",
   "metadata": {
    "scrolled": true
   },
   "outputs": [],
   "source": [
    "pip install edgar"
   ]
  },
  {
   "cell_type": "code",
   "execution_count": null,
   "id": "a375dc6e",
   "metadata": {},
   "outputs": [],
   "source": [
    "from edgar import company\n",
    "from edgar import Edgar\n",
    "import edgar"
   ]
  },
  {
   "cell_type": "code",
   "execution_count": null,
   "id": "111439c9",
   "metadata": {},
   "outputs": [],
   "source": [
    "edgar = Edgar()\n",
    "possible_companies = edgar.find_company_name(\"Cisco Systems\")"
   ]
  },
  {
   "cell_type": "code",
   "execution_count": null,
   "id": "b0989044",
   "metadata": {},
   "outputs": [],
   "source": [
    "pip install python-edgar"
   ]
  },
  {
   "cell_type": "code",
   "execution_count": null,
   "id": "056dcd8c",
   "metadata": {},
   "outputs": [],
   "source": [
    "import edgar"
   ]
  },
  {
   "cell_type": "code",
   "execution_count": null,
   "id": "1001a8dd",
   "metadata": {},
   "outputs": [],
   "source": []
  }
 ],
 "metadata": {
  "kernelspec": {
   "display_name": "Python 3 (ipykernel)",
   "language": "python",
   "name": "python3"
  },
  "language_info": {
   "codemirror_mode": {
    "name": "ipython",
    "version": 3
   },
   "file_extension": ".py",
   "mimetype": "text/x-python",
   "name": "python",
   "nbconvert_exporter": "python",
   "pygments_lexer": "ipython3",
   "version": "3.8.8"
  }
 },
 "nbformat": 4,
 "nbformat_minor": 5
}
