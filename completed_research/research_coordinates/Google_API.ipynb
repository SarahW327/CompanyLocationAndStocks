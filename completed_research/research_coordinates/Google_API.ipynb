{
 "cells": [
  {
   "cell_type": "code",
   "execution_count": 1,
   "id": "80cfe666",
   "metadata": {},
   "outputs": [
    {
     "name": "stdout",
     "output_type": "stream",
     "text": [
      "Collecting package metadata (current_repodata.json): done\n",
      "Solving environment: done\n",
      "\n",
      "# All requested packages already installed.\n",
      "\n",
      "\n",
      "Note: you may need to restart the kernel to use updated packages.\n"
     ]
    }
   ],
   "source": [
    "#conda install -c conda-forge gmaps"
   ]
  },
  {
   "cell_type": "code",
   "execution_count": 2,
   "id": "39739863",
   "metadata": {},
   "outputs": [],
   "source": [
    "from geopy.geocoders import Nominatim, GoogleV3\n",
    "from config import Google_Key"
   ]
  },
  {
   "cell_type": "code",
   "execution_count": 3,
   "id": "63537855",
   "metadata": {},
   "outputs": [],
   "source": [
    "# geolocator = Nominatim(user_agent=\"GeoLoc\")\n",
    "# location = geolocator.geocode(\"410 Terry Ave N Seattle\")\n",
    "# print(location.address)"
   ]
  },
  {
   "cell_type": "code",
   "execution_count": 4,
   "id": "fe5bf33d",
   "metadata": {},
   "outputs": [],
   "source": [
    "# from urllib.request import urlopen, Request\n",
    "# from bs4 import BeautifulSoup\n",
    "\n",
    "# import json\n",
    "\n",
    "# url = 'https://maps.googleapis.com/maps/api/geocode/json?address=Apple+Inc&key=Google_Key'\n",
    "# jsonurl = urlopen(url)"
   ]
  },
  {
   "cell_type": "code",
   "execution_count": 5,
   "id": "e51f029e",
   "metadata": {},
   "outputs": [],
   "source": [
    "# print(url)"
   ]
  },
  {
   "cell_type": "code",
   "execution_count": 6,
   "id": "3383ec5b",
   "metadata": {
    "scrolled": true
   },
   "outputs": [],
   "source": [
    "# text = json.loads(jsonurl.read())\n",
    "# print ( text['results'][0][\"formatted_address\"])\n",
    "# print ( text['results'][0][\"geometry\"]['location'][\"lat\"])\n",
    "# print ( text['results'][0][\"geometry\"]['location'][\"lng\"])"
   ]
  },
  {
   "cell_type": "code",
   "execution_count": 7,
   "id": "08f532d3",
   "metadata": {},
   "outputs": [],
   "source": [
    "# import dependencies\n",
    "import pandas as pd\n",
    "import gmaps\n",
    "import requests\n",
    "from config import Google_Key"
   ]
  },
  {
   "cell_type": "code",
   "execution_count": 8,
   "id": "3566c152",
   "metadata": {},
   "outputs": [
    {
     "data": {
      "text/html": [
       "<div>\n",
       "<style scoped>\n",
       "    .dataframe tbody tr th:only-of-type {\n",
       "        vertical-align: middle;\n",
       "    }\n",
       "\n",
       "    .dataframe tbody tr th {\n",
       "        vertical-align: top;\n",
       "    }\n",
       "\n",
       "    .dataframe thead th {\n",
       "        text-align: right;\n",
       "    }\n",
       "</style>\n",
       "<table border=\"1\" class=\"dataframe\">\n",
       "  <thead>\n",
       "    <tr style=\"text-align: right;\">\n",
       "      <th></th>\n",
       "      <th>Ticker</th>\n",
       "      <th>NAME</th>\n",
       "      <th>open</th>\n",
       "      <th>close</th>\n",
       "      <th>change</th>\n",
       "      <th>% change</th>\n",
       "      <th>City</th>\n",
       "      <th>State</th>\n",
       "      <th>Country</th>\n",
       "      <th>LONGITUDE</th>\n",
       "      <th>LATITUDE</th>\n",
       "    </tr>\n",
       "  </thead>\n",
       "  <tbody>\n",
       "    <tr>\n",
       "      <th>0</th>\n",
       "      <td>AMD</td>\n",
       "      <td>Advanced Micro Devices Inc</td>\n",
       "      <td>111.98</td>\n",
       "      <td>-6.3</td>\n",
       "      <td>NaN</td>\n",
       "      <td>NaN</td>\n",
       "      <td>Santa Clara</td>\n",
       "      <td>CA</td>\n",
       "      <td>US</td>\n",
       "      <td>NaN</td>\n",
       "      <td>NaN</td>\n",
       "    </tr>\n",
       "    <tr>\n",
       "      <th>1</th>\n",
       "      <td>ADBE</td>\n",
       "      <td>Adobe Inc.</td>\n",
       "      <td>459.08</td>\n",
       "      <td>-12.1</td>\n",
       "      <td>NaN</td>\n",
       "      <td>NaN</td>\n",
       "      <td>San Jose</td>\n",
       "      <td>CA</td>\n",
       "      <td>US</td>\n",
       "      <td>NaN</td>\n",
       "      <td>NaN</td>\n",
       "    </tr>\n",
       "    <tr>\n",
       "      <th>2</th>\n",
       "      <td>ABNB</td>\n",
       "      <td>Airbnb Inc</td>\n",
       "      <td>151.69</td>\n",
       "      <td>-5.84</td>\n",
       "      <td>NaN</td>\n",
       "      <td>NaN</td>\n",
       "      <td>San Francisco</td>\n",
       "      <td>CA</td>\n",
       "      <td>US</td>\n",
       "      <td>NaN</td>\n",
       "      <td>NaN</td>\n",
       "    </tr>\n",
       "    <tr>\n",
       "      <th>3</th>\n",
       "      <td>ALGN</td>\n",
       "      <td>Align Technology Inc</td>\n",
       "      <td>477.45</td>\n",
       "      <td>-18.69</td>\n",
       "      <td>NaN</td>\n",
       "      <td>NaN</td>\n",
       "      <td>Tempe</td>\n",
       "      <td>AZ</td>\n",
       "      <td>US</td>\n",
       "      <td>NaN</td>\n",
       "      <td>NaN</td>\n",
       "    </tr>\n",
       "    <tr>\n",
       "      <th>4</th>\n",
       "      <td>AMZN</td>\n",
       "      <td>Amazon.com Inc</td>\n",
       "      <td>2.00</td>\n",
       "      <td>957.97</td>\n",
       "      <td>NaN</td>\n",
       "      <td>NaN</td>\n",
       "      <td>Seattle</td>\n",
       "      <td>WA</td>\n",
       "      <td>US</td>\n",
       "      <td>NaN</td>\n",
       "      <td>NaN</td>\n",
       "    </tr>\n",
       "    <tr>\n",
       "      <th>...</th>\n",
       "      <td>...</td>\n",
       "      <td>...</td>\n",
       "      <td>...</td>\n",
       "      <td>...</td>\n",
       "      <td>...</td>\n",
       "      <td>...</td>\n",
       "      <td>...</td>\n",
       "      <td>...</td>\n",
       "      <td>...</td>\n",
       "      <td>...</td>\n",
       "      <td>...</td>\n",
       "    </tr>\n",
       "    <tr>\n",
       "      <th>97</th>\n",
       "      <td>WBA</td>\n",
       "      <td>Walgreens Boots Alliance Inc</td>\n",
       "      <td>46.72</td>\n",
       "      <td>0.57</td>\n",
       "      <td>NaN</td>\n",
       "      <td>NaN</td>\n",
       "      <td>Chicago</td>\n",
       "      <td>IL</td>\n",
       "      <td>NaN</td>\n",
       "      <td>NaN</td>\n",
       "      <td>NaN</td>\n",
       "    </tr>\n",
       "    <tr>\n",
       "      <th>98</th>\n",
       "      <td>WDAY</td>\n",
       "      <td>Workday Inc</td>\n",
       "      <td>245.37</td>\n",
       "      <td>-3.02</td>\n",
       "      <td>NaN</td>\n",
       "      <td>NaN</td>\n",
       "      <td>Pleasanton</td>\n",
       "      <td>CA</td>\n",
       "      <td>NaN</td>\n",
       "      <td>NaN</td>\n",
       "      <td>NaN</td>\n",
       "    </tr>\n",
       "    <tr>\n",
       "      <th>99</th>\n",
       "      <td>XEL</td>\n",
       "      <td>Xcel Energy Inc</td>\n",
       "      <td>69.13</td>\n",
       "      <td>1.57</td>\n",
       "      <td>NaN</td>\n",
       "      <td>NaN</td>\n",
       "      <td>Minneapolis</td>\n",
       "      <td>MN</td>\n",
       "      <td>NaN</td>\n",
       "      <td>NaN</td>\n",
       "      <td>NaN</td>\n",
       "    </tr>\n",
       "    <tr>\n",
       "      <th>100</th>\n",
       "      <td>ZM</td>\n",
       "      <td>Zoom Video Communications Inc</td>\n",
       "      <td>113.11</td>\n",
       "      <td>-8.5</td>\n",
       "      <td>NaN</td>\n",
       "      <td>NaN</td>\n",
       "      <td>San Jose</td>\n",
       "      <td>CA</td>\n",
       "      <td>NaN</td>\n",
       "      <td>NaN</td>\n",
       "      <td>NaN</td>\n",
       "    </tr>\n",
       "    <tr>\n",
       "      <th>101</th>\n",
       "      <td>ZS</td>\n",
       "      <td>Zscaler Inc</td>\n",
       "      <td>242.03</td>\n",
       "      <td>-12.38</td>\n",
       "      <td>NaN</td>\n",
       "      <td>NaN</td>\n",
       "      <td>San Jose</td>\n",
       "      <td>CA</td>\n",
       "      <td>NaN</td>\n",
       "      <td>NaN</td>\n",
       "      <td>NaN</td>\n",
       "    </tr>\n",
       "  </tbody>\n",
       "</table>\n",
       "<p>102 rows × 11 columns</p>\n",
       "</div>"
      ],
      "text/plain": [
       "    Ticker                           NAME     open   close  change  % change  \\\n",
       "0       AMD     Advanced Micro Devices Inc  111.98    -6.3     NaN       NaN   \n",
       "1      ADBE                     Adobe Inc.  459.08   -12.1     NaN       NaN   \n",
       "2      ABNB                     Airbnb Inc  151.69   -5.84     NaN       NaN   \n",
       "3      ALGN           Align Technology Inc  477.45  -18.69     NaN       NaN   \n",
       "4      AMZN                 Amazon.com Inc    2.00  957.97     NaN       NaN   \n",
       "..      ...                            ...     ...     ...     ...       ...   \n",
       "97      WBA   Walgreens Boots Alliance Inc   46.72    0.57     NaN       NaN   \n",
       "98     WDAY                    Workday Inc  245.37   -3.02     NaN       NaN   \n",
       "99      XEL                Xcel Energy Inc   69.13    1.57     NaN       NaN   \n",
       "100      ZM  Zoom Video Communications Inc  113.11    -8.5     NaN       NaN   \n",
       "101      ZS                    Zscaler Inc  242.03  -12.38     NaN       NaN   \n",
       "\n",
       "              City State Country  LONGITUDE  LATITUDE  \n",
       "0      Santa Clara    CA      US        NaN       NaN  \n",
       "1         San Jose    CA      US        NaN       NaN  \n",
       "2    San Francisco    CA      US        NaN       NaN  \n",
       "3            Tempe    AZ      US        NaN       NaN  \n",
       "4          Seattle    WA      US        NaN       NaN  \n",
       "..             ...   ...     ...        ...       ...  \n",
       "97         Chicago    IL     NaN        NaN       NaN  \n",
       "98      Pleasanton    CA     NaN        NaN       NaN  \n",
       "99     Minneapolis    MN     NaN        NaN       NaN  \n",
       "100       San Jose    CA     NaN        NaN       NaN  \n",
       "101       San Jose    CA     NaN        NaN       NaN  \n",
       "\n",
       "[102 rows x 11 columns]"
      ]
     },
     "execution_count": 8,
     "metadata": {},
     "output_type": "execute_result"
    }
   ],
   "source": [
    "stock_df = pd.read_csv(\"./resources/stocks_data.csv\")\n",
    "stock_df"
   ]
  },
  {
   "cell_type": "code",
   "execution_count": 9,
   "id": "7e3d2ab3",
   "metadata": {},
   "outputs": [
    {
     "data": {
      "text/plain": [
       "Ticker        object\n",
       "NAME          object\n",
       "open         float64\n",
       "close         object\n",
       "change       float64\n",
       "% change     float64\n",
       "City          object\n",
       "State         object\n",
       "Country       object\n",
       "LONGITUDE    float64\n",
       "LATITUDE     float64\n",
       "dtype: object"
      ]
     },
     "execution_count": 9,
     "metadata": {},
     "output_type": "execute_result"
    }
   ],
   "source": [
    "stock_df.dtypes"
   ]
  },
  {
   "cell_type": "code",
   "execution_count": 10,
   "id": "c47dd9f0",
   "metadata": {},
   "outputs": [],
   "source": [
    "# Configure gmaps to use your Google API key.\n",
    "gmaps.configure(api_key=Google_Key)"
   ]
  },
  {
   "cell_type": "code",
   "execution_count": 19,
   "id": "1b7ab90d",
   "metadata": {},
   "outputs": [
    {
     "data": {
      "text/plain": [
       "{'candidates': [], 'status': 'INVALID_REQUEST'}"
      ]
     },
     "execution_count": 19,
     "metadata": {},
     "output_type": "execute_result"
    }
   ],
   "source": [
    "#base_url = \"https://maps.googleapis.com/maps/api/geocode/json?address=Apple+Inc\"\n",
    "#geolocator = GoogleV3(api_key=Google_Key)\n",
    "address = \"Apple Inc\"\n",
    "\n",
    "params = {\n",
    "    'key': Google_Key,\n",
    "    'address':address\n",
    "}\n",
    "\n",
    "base_url = \"https://maps.googleapis.com/maps/api/place/findplacefromtext/json?\"\n",
    "response = requests.get(base_url, params=params)\n",
    "response.json()\n"
   ]
  },
  {
   "cell_type": "code",
   "execution_count": 12,
   "id": "b3869508",
   "metadata": {},
   "outputs": [],
   "source": [
    "#location = geolocator.geocode(base_url)"
   ]
  },
  {
   "cell_type": "code",
   "execution_count": 13,
   "id": "da06bcff",
   "metadata": {},
   "outputs": [
    {
     "name": "stdout",
     "output_type": "stream",
     "text": [
      "None\n"
     ]
    }
   ],
   "source": [
    "#print(location)"
   ]
  }
 ],
 "metadata": {
  "kernelspec": {
   "display_name": "Python 3 (ipykernel)",
   "language": "python",
   "name": "python3"
  },
  "language_info": {
   "codemirror_mode": {
    "name": "ipython",
    "version": 3
   },
   "file_extension": ".py",
   "mimetype": "text/x-python",
   "name": "python",
   "nbconvert_exporter": "python",
   "pygments_lexer": "ipython3",
   "version": "3.8.8"
  }
 },
 "nbformat": 4,
 "nbformat_minor": 5
}
