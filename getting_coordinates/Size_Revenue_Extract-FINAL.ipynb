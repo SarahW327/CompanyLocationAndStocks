{
 "cells": [
  {
   "cell_type": "code",
   "execution_count": 1,
   "id": "eacc3dfa",
   "metadata": {},
   "outputs": [],
   "source": [
    "import json\n",
    "import pandas as pd"
   ]
  },
  {
   "cell_type": "code",
   "execution_count": 2,
   "id": "5e0c4f5f",
   "metadata": {},
   "outputs": [],
   "source": [
    "with open(\"../source/StockFacts.json\", 'r') as infile:\n",
    "    data = infile.read()\n",
    "    new_data = data.replace('}{', '},{')\n",
    "    json_data = json.loads(f'[{new_data}]')"
   ]
  },
  {
   "cell_type": "code",
   "execution_count": 3,
   "id": "5378b1d5",
   "metadata": {},
   "outputs": [],
   "source": [
    "tickers = pd.read_csv(\"../source/compcom.csv\")\n",
    "tickers_df = tickers.drop(columns=\"url\")"
   ]
  },
  {
   "cell_type": "code",
   "execution_count": 4,
   "id": "95c39e54",
   "metadata": {
    "scrolled": true
   },
   "outputs": [],
   "source": [
    "# # TEST RUN for revenue extraction\n",
    "# for x in range(len(json_data)):\n",
    "#     try:\n",
    "#         #json_data[x]['data']['revenue']\n",
    "#         print(x, json_data[x]['data']['revenue'])\n",
    "#     except: \n",
    "#         print(x, \"NaN\")"
   ]
  },
  {
   "cell_type": "code",
   "execution_count": 5,
   "id": "ce5358a6",
   "metadata": {
    "scrolled": true
   },
   "outputs": [],
   "source": [
    "# # TEST RUN for size extraction\n",
    "# for x in range(len(json_data)):\n",
    "#     try: \n",
    "#         print(x,json_data[x]['data']['size'])\n",
    "#     except:\n",
    "#         print(x,\"NaN\")"
   ]
  },
  {
   "cell_type": "code",
   "execution_count": 6,
   "id": "8c49ebdc",
   "metadata": {
    "scrolled": true
   },
   "outputs": [],
   "source": [
    "revenue = []\n",
    "for x in range(len(json_data)):\n",
    "    try:\n",
    "        #json_data[x]['data']['revenue']\n",
    "        revenue.append(json_data[x]['data']['revenue'])\n",
    "        \n",
    "    except: \n",
    "        revenue.append(\"NaN\")"
   ]
  },
  {
   "cell_type": "code",
   "execution_count": 7,
   "id": "bcade62a",
   "metadata": {},
   "outputs": [],
   "source": [
    "size = []\n",
    "for x in range(len(json_data)):\n",
    "    try:\n",
    "        #json_data[x]['data']['revenue']\n",
    "        size.append(json_data[x]['data']['size'])\n",
    "        \n",
    "    except: \n",
    "        size.append(\"NaN\")"
   ]
  },
  {
   "cell_type": "code",
   "execution_count": 8,
   "id": "d2945068",
   "metadata": {
    "scrolled": false
   },
   "outputs": [],
   "source": [
    "revenue_df = pd.DataFrame(revenue, columns = ['revenue'])"
   ]
  },
  {
   "cell_type": "code",
   "execution_count": 9,
   "id": "0771ec28",
   "metadata": {},
   "outputs": [],
   "source": [
    "size_df = pd.DataFrame(size, columns = ['size'])"
   ]
  },
  {
   "cell_type": "code",
   "execution_count": 10,
   "id": "58c2cf0c",
   "metadata": {
    "scrolled": false
   },
   "outputs": [],
   "source": [
    "combine = [tickers_df, revenue_df, size_df]\n",
    "size_revenue_df = pd.concat(combine, axis=1)\n",
    "#size_revenue_df.head()\n",
    "\n",
    "# figured adding ticker column would make it easier to join on SQL?? yes? no?"
   ]
  },
  {
   "cell_type": "code",
   "execution_count": 11,
   "id": "3460759d",
   "metadata": {},
   "outputs": [],
   "source": [
    "# if need to change \"none\" and \"NaN\" to zero value\n",
    "size_revenue_df = size_revenue_df.fillna(0)"
   ]
  },
  {
   "cell_type": "code",
   "execution_count": 12,
   "id": "b83c127c",
   "metadata": {
    "scrolled": true
   },
   "outputs": [],
   "source": [
    "size_revenue_df = size_revenue_df.replace(\"NaN\", 0)"
   ]
  },
  {
   "cell_type": "code",
   "execution_count": 13,
   "id": "08b276b1",
   "metadata": {},
   "outputs": [],
   "source": [
    "url_names_df = pd.read_csv(\"../source/compcom_edit.csv\")"
   ]
  },
  {
   "cell_type": "code",
   "execution_count": 14,
   "id": "c2601bee",
   "metadata": {
    "scrolled": false
   },
   "outputs": [],
   "source": [
    "url_names_df = url_names_df.drop(columns=\"Ticker\")"
   ]
  },
  {
   "cell_type": "code",
   "execution_count": 15,
   "id": "8b5ce4db",
   "metadata": {
    "scrolled": true
   },
   "outputs": [],
   "source": [
    "combine2 = [size_revenue_df, url_names_df]\n",
    "size_revenue_df2 = pd.concat(combine2, axis=1)"
   ]
  },
  {
   "cell_type": "code",
   "execution_count": 16,
   "id": "01691d4e",
   "metadata": {},
   "outputs": [],
   "source": [
    "# SECTOR NAMES & ABBREVIATIONS\n",
    "\n",
    "# Healthcare             _H\n",
    "# Materials              _M\n",
    "# Real Estate            _R\n",
    "# Consumer Staples       _CS\n",
    "# Consumer Discretionary _CD\n",
    "# Utilities              _U\n",
    "# Energy                 _E\n",
    "# Industrials            _I\n",
    "# Communication Services _CM\n",
    "# Financials             _F\n",
    "# Technology             _T"
   ]
  },
  {
   "cell_type": "code",
   "execution_count": 17,
   "id": "20ce3f8e",
   "metadata": {},
   "outputs": [],
   "source": [
    "sectors_df = pd.read_csv(\"../coordinates/SECTORS_edit.csv\")"
   ]
  },
  {
   "cell_type": "code",
   "execution_count": 18,
   "id": "fe6c06bc",
   "metadata": {
    "scrolled": true
   },
   "outputs": [],
   "source": [
    "sectors_df.drop([\"name\",\"ticker\"], axis=1, inplace=True)"
   ]
  },
  {
   "cell_type": "code",
   "execution_count": 19,
   "id": "53ecc8a5",
   "metadata": {
    "scrolled": true
   },
   "outputs": [],
   "source": [
    "#sectors_df"
   ]
  },
  {
   "cell_type": "code",
   "execution_count": 20,
   "id": "c9b83328",
   "metadata": {
    "scrolled": true
   },
   "outputs": [],
   "source": [
    "combine3 = [size_revenue_df2, sectors_df]\n",
    "size_revenue_df3 = pd.concat(combine3, axis=1)\n",
    "size_revenue_df3.rename(columns={\"Ticker\":\"ticker\"}, inplace=True)\n",
    "size_revenue_df3.set_index(\"ticker\", inplace=True)"
   ]
  },
  {
   "cell_type": "code",
   "execution_count": 21,
   "id": "d2e6a87e",
   "metadata": {
    "scrolled": true
   },
   "outputs": [],
   "source": [
    "#size_revenue_df3"
   ]
  },
  {
   "cell_type": "code",
   "execution_count": 22,
   "id": "770ef306",
   "metadata": {
    "scrolled": true
   },
   "outputs": [],
   "source": [
    "size_revenue_full = size_revenue_df3.drop(\"sector_short\", axis=1)"
   ]
  },
  {
   "cell_type": "code",
   "execution_count": 23,
   "id": "de75b5b6",
   "metadata": {
    "scrolled": false
   },
   "outputs": [],
   "source": [
    "#size_revenue_full"
   ]
  },
  {
   "cell_type": "code",
   "execution_count": 24,
   "id": "9de8529e",
   "metadata": {},
   "outputs": [],
   "source": [
    "size_revenue_full.to_csv(\"../source/size_revenue_data.csv\")"
   ]
  },
  {
   "cell_type": "code",
   "execution_count": 25,
   "id": "17ca6e07",
   "metadata": {},
   "outputs": [],
   "source": [
    "#size_revenue_abb = size_revenue_df3.drop(\"sector\",axis=1)\n",
    "#size_revenue_abb.rename(columns = {\"sector_short\":\"sector\"},inplace=True)"
   ]
  },
  {
   "cell_type": "code",
   "execution_count": 26,
   "id": "75e0418b",
   "metadata": {
    "scrolled": true
   },
   "outputs": [],
   "source": [
    "#size_revenue_abb"
   ]
  },
  {
   "cell_type": "code",
   "execution_count": 27,
   "id": "7af43c12",
   "metadata": {},
   "outputs": [],
   "source": [
    "#size_revenue_abb.to_csv(\"../source/size_revenue_data.csv\")"
   ]
  }
 ],
 "metadata": {
  "kernelspec": {
   "display_name": "Python 3 (ipykernel)",
   "language": "python",
   "name": "python3"
  },
  "language_info": {
   "codemirror_mode": {
    "name": "ipython",
    "version": 3
   },
   "file_extension": ".py",
   "mimetype": "text/x-python",
   "name": "python",
   "nbconvert_exporter": "python",
   "pygments_lexer": "ipython3",
   "version": "3.8.8"
  }
 },
 "nbformat": 4,
 "nbformat_minor": 5
}
