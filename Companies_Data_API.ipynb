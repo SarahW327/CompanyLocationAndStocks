{
 "cells": [
  {
   "cell_type": "code",
   "execution_count": 1,
   "id": "9aa79e7b",
   "metadata": {
    "scrolled": true
   },
   "outputs": [
    {
     "name": "stdout",
     "output_type": "stream",
     "text": [
      "{\"result\":\"success\",\"data\":{\"name\":\"Microsoft\",\"alternate_name\":null,\"domain\":\"microsoft.com\",\"domain_name\":\"microsoft\",\"domain_tld\":\"com\",\"business_type\":null,\"monthly_visitors\":\"over-1b\",\"phone_number\":\"(503) 443-7070\",\"revenue\":\"over-1b\",\"size\":\"over-10k\",\"year_founded\":1975,\"address\":\"1 microsoft way\",\"address_name\":\"Redmond\",\"address_postal_code\":null,\"address_country_code\":\"US\",\"address_country\":\"United States\",\"address_lat\":47.6694141,\"address_lng\":-122.1238767,\"updated_at\":\"2020-09-22T15:49:41+00:00\",\"description\":\"At Microsoft, our mission is to empower every person and every organization on the planet to achieve more. Our mission is grounded in both the world in which we live and the future we strive to create. Today, we live in a mobile-first, cloud-first world, and the transformation we are driving across our businesses is designed to enable Microsoft and our customers to thrive in this world. \\\\\\\\We do business in 170 countries and are made up of 114,000 passionate employees dedicated to fulfilling our mission of helping you and your organization achieve more.\\\\\",\"social_networks\":{\"angellist\":\"http://angel.co/microsoft\",\"facebook\":\"https://www.facebook.com/MicrosoftIndia?brand_redir=1\",\"linkedin\":\"https://www.linkedin.com/company/microsoft\",\"twitter\":\"http://twitter.com/Microsoft\"},\"email_patterns\":[{\"pattern\":\"[F][L1]\",\"percentage\":47.204},{\"pattern\":\"[F1][L]\",\"percentage\":26.0307},{\"pattern\":\"[F].[L]\",\"percentage\":22.9093},{\"pattern\":\"[F][L]\",\"percentage\":2.3292},{\"pattern\":\"[F]\",\"percentage\":0.7048},{\"pattern\":\"[L]\",\"percentage\":0.5309},{\"pattern\":\"[L].[F]\",\"percentage\":0.0818},{\"pattern\":\"[L][F1]\",\"percentage\":0.04},{\"pattern\":\"[L1][F]\",\"percentage\":0.04},{\"pattern\":\"[F1].[L]\",\"percentage\":0.0288},{\"pattern\":\"[L][F]\",\"percentage\":0.0205},{\"pattern\":\"[F].[L1]\",\"percentage\":0.0186},{\"pattern\":\"[F1][L1]\",\"percentage\":0.0139},{\"pattern\":\"[F]_[L]\",\"percentage\":0.0121},{\"pattern\":\"[F1][M1][L]\",\"percentage\":0.0112}],\"technologies\":[\"comscore\",\"jquery\",\"kestrel\",\"microsoft-asp-net\",\"microsoft-iis\",\"office-365\",\"windows-server\"],\"technology_categories\":[\"Calendar & Scheduling\",\"Video Conferencing\",\"analytics\",\"cloud-storage\",\"collaboration\",\"conversion-optimization\",\"dot-net-framework\",\"email-service\",\"javascript-library\",\"operating-system\",\"productivity\",\"web-server\"],\"industries\":[\"advertising\",\"business-software\",\"cloud-computing\",\"computer-software\",\"computers\",\"consumer-internet\",\"design-tools\",\"developer-tools\",\"electronics\",\"entertainment-products\",\"games\",\"hardware\",\"home-educational-software\",\"information-technology\",\"internet\",\"mobile-phones\",\"prepackaged-software\",\"search\",\"servers\",\"shopping\",\"smartphones\",\"software\",\"tablets\",\"video-games\",\"windows-applications-platforms\",\"windows-operating-system\"]}}\n"
     ]
    }
   ],
   "source": [
    "import requests\n",
    "\n",
    "url = \"https://companies-datas.p.rapidapi.com/api/v1/piloterr/domain\"\n",
    "\n",
    "querystring = {\"url\":\"microsoft.com\"}\n",
    "\n",
    "headers = {\n",
    "    'x-rapidapi-host': \"companies-datas.p.rapidapi.com\",\n",
    "    'x-rapidapi-key': \"6089a5a035mshe25d894b9027095p18ee63jsn4aeaa3a5dcff\"\n",
    "    }\n",
    "\n",
    "response = requests.request(\"GET\", url, headers=headers, params=querystring)\n",
    "\n",
    "print(response.text)"
   ]
  },
  {
   "cell_type": "code",
   "execution_count": 16,
   "id": "7d7e0eb2",
   "metadata": {},
   "outputs": [],
   "source": [
    "import bs4 as bs\n",
    "import datetime\n",
    "import numpy\n",
    "import requests\n",
    "import time"
   ]
  },
  {
   "cell_type": "code",
   "execution_count": 34,
   "id": "406d1ed6",
   "metadata": {
    "scrolled": true
   },
   "outputs": [
    {
     "data": {
      "text/plain": [
       "{'result': 'success',\n",
       " 'data': {'name': 'Amazon',\n",
       "  'alternate_name': None,\n",
       "  'domain': 'amazon.com',\n",
       "  'domain_name': 'amazon',\n",
       "  'domain_tld': 'com',\n",
       "  'business_type': None,\n",
       "  'monthly_visitors': 'over-1b',\n",
       "  'phone_number': '(206) 266-1000',\n",
       "  'revenue': 'over-1b',\n",
       "  'size': 'over-10k',\n",
       "  'year_founded': 1994,\n",
       "  'address': '2127 7th avenue',\n",
       "  'address_name': 'Seattle',\n",
       "  'address_postal_code': None,\n",
       "  'address_country_code': 'US',\n",
       "  'address_country': 'United States',\n",
       "  'address_lat': 47.6038321,\n",
       "  'address_lng': -122.3300624,\n",
       "  'updated_at': '2020-09-22T15:49:41+00:00',\n",
       "  'description': \"Amazon strives to be Earth's most customer-centric company where people can find and discover virtually anything they want to buy online. By giving customers more of what they want - low prices, vast selection, and convenience - Amazon continues to grow and evolve as a world-class e-commerce platform.\\\\\\\\Founded by Jeff Bezos, the Amazon.com website started in 1995 as a place to buy books because of the unique customer experience the Web could offer book lovers. Bezos believed that only the Internet could offer customers the convenience of browsing a selection of millions of book titles in a single sitting. During the first 30 days of business, Amazon fulfilled orders for customers in 50 states and 45 countries - all shipped from his Seattle-area garage.\\\\\\\\Amazon's evolution from Web site to e-commerce partner to development platform is driven by the spirit of innovation that is part of the company's DNA. The world's brightest technology minds come to Amazon.com to research and develop technology that improves the lives of shoppers and sellers around the world.\",\n",
       "  'social_networks': {'angellist': 'http://angel.co/amazon',\n",
       "   'facebook': 'http://www.facebook.com/Amazon',\n",
       "   'linkedin': 'https://www.linkedin.com/company/amazon',\n",
       "   'twitter': 'http://twitter.com/amazon'},\n",
       "  'email_patterns': [{'pattern': '[F][L1]', 'percentage': 67.9577},\n",
       "   {'pattern': '[F1][L]', 'percentage': 25.7796},\n",
       "   {'pattern': '[L]', 'percentage': 2.2574},\n",
       "   {'pattern': '[F][L]', 'percentage': 1.7769},\n",
       "   {'pattern': '[F]', 'percentage': 1.4367},\n",
       "   {'pattern': '[L][F1]', 'percentage': 0.5192},\n",
       "   {'pattern': '[L1][F]', 'percentage': 0.1451},\n",
       "   {'pattern': '[F].[L]', 'percentage': 0.0532},\n",
       "   {'pattern': '[L][F]', 'percentage': 0.05}],\n",
       "  'technologies': ['apache', 'jquery', 'lodash'],\n",
       "  'technology_categories': ['javascript-library', 'web-server'],\n",
       "  'industries': ['consumer-goods',\n",
       "   'consumer-internet',\n",
       "   'consumers',\n",
       "   'e-commerce',\n",
       "   'ebooks',\n",
       "   'ecommerce',\n",
       "   'information-technology',\n",
       "   'internet',\n",
       "   'internet-infrastructure',\n",
       "   'operations',\n",
       "   'retail',\n",
       "   'shopping']}}"
      ]
     },
     "execution_count": 34,
     "metadata": {},
     "output_type": "execute_result"
    }
   ],
   "source": [
    "response.json()"
   ]
  },
  {
   "cell_type": "code",
   "execution_count": 37,
   "id": "25543483",
   "metadata": {},
   "outputs": [
    {
     "data": {
      "text/plain": [
       "'over-1b'"
      ]
     },
     "execution_count": 37,
     "metadata": {},
     "output_type": "execute_result"
    }
   ],
   "source": [
    "response.json()['data']['revenue']"
   ]
  },
  {
   "cell_type": "code",
   "execution_count": 17,
   "id": "add75cd2",
   "metadata": {
    "scrolled": true
   },
   "outputs": [
    {
     "data": {
      "text/html": [
       "<div>\n",
       "<style scoped>\n",
       "    .dataframe tbody tr th:only-of-type {\n",
       "        vertical-align: middle;\n",
       "    }\n",
       "\n",
       "    .dataframe tbody tr th {\n",
       "        vertical-align: top;\n",
       "    }\n",
       "\n",
       "    .dataframe thead th {\n",
       "        text-align: right;\n",
       "    }\n",
       "</style>\n",
       "<table border=\"1\" class=\"dataframe\">\n",
       "  <thead>\n",
       "    <tr style=\"text-align: right;\">\n",
       "      <th></th>\n",
       "      <th>URL</th>\n",
       "    </tr>\n",
       "  </thead>\n",
       "  <tbody>\n",
       "    <tr>\n",
       "      <th>0</th>\n",
       "      <td>{\"url\":amd.com}</td>\n",
       "    </tr>\n",
       "    <tr>\n",
       "      <th>1</th>\n",
       "      <td>{\"url\":adobe.com}</td>\n",
       "    </tr>\n",
       "    <tr>\n",
       "      <th>2</th>\n",
       "      <td>airbnb.com</td>\n",
       "    </tr>\n",
       "    <tr>\n",
       "      <th>3</th>\n",
       "      <td>aligntech.com</td>\n",
       "    </tr>\n",
       "    <tr>\n",
       "      <th>4</th>\n",
       "      <td>amazon.com</td>\n",
       "    </tr>\n",
       "    <tr>\n",
       "      <th>5</th>\n",
       "      <td>amgen.com</td>\n",
       "    </tr>\n",
       "    <tr>\n",
       "      <th>6</th>\n",
       "      <td>aep.com</td>\n",
       "    </tr>\n",
       "    <tr>\n",
       "      <th>7</th>\n",
       "      <td>analog.com</td>\n",
       "    </tr>\n",
       "    <tr>\n",
       "      <th>8</th>\n",
       "      <td>ansys.com</td>\n",
       "    </tr>\n",
       "    <tr>\n",
       "      <th>9</th>\n",
       "      <td>apple.com</td>\n",
       "    </tr>\n",
       "    <tr>\n",
       "      <th>10</th>\n",
       "      <td>appliedmaterials.com</td>\n",
       "    </tr>\n",
       "    <tr>\n",
       "      <th>11</th>\n",
       "      <td>asml.com</td>\n",
       "    </tr>\n",
       "    <tr>\n",
       "      <th>12</th>\n",
       "      <td>atlassian.com</td>\n",
       "    </tr>\n",
       "    <tr>\n",
       "      <th>13</th>\n",
       "      <td>autodesk.com</td>\n",
       "    </tr>\n",
       "    <tr>\n",
       "      <th>14</th>\n",
       "      <td>activisionblizzard.com</td>\n",
       "    </tr>\n",
       "    <tr>\n",
       "      <th>15</th>\n",
       "      <td>adp.com</td>\n",
       "    </tr>\n",
       "    <tr>\n",
       "      <th>16</th>\n",
       "      <td>astrazeneca.com</td>\n",
       "    </tr>\n",
       "    <tr>\n",
       "      <th>17</th>\n",
       "      <td>broadcom.com</td>\n",
       "    </tr>\n",
       "    <tr>\n",
       "      <th>18</th>\n",
       "      <td>ir.baidu.com</td>\n",
       "    </tr>\n",
       "    <tr>\n",
       "      <th>19</th>\n",
       "      <td>biogen.com</td>\n",
       "    </tr>\n",
       "  </tbody>\n",
       "</table>\n",
       "</div>"
      ],
      "text/plain": [
       "                       URL\n",
       "0          {\"url\":amd.com}\n",
       "1        {\"url\":adobe.com}\n",
       "2               airbnb.com\n",
       "3            aligntech.com\n",
       "4               amazon.com\n",
       "5                amgen.com\n",
       "6                  aep.com\n",
       "7               analog.com\n",
       "8                ansys.com\n",
       "9                apple.com\n",
       "10    appliedmaterials.com\n",
       "11                asml.com\n",
       "12           atlassian.com\n",
       "13            autodesk.com\n",
       "14  activisionblizzard.com\n",
       "15                 adp.com\n",
       "16         astrazeneca.com\n",
       "17            broadcom.com\n",
       "18            ir.baidu.com\n",
       "19              biogen.com"
      ]
     },
     "execution_count": 17,
     "metadata": {},
     "output_type": "execute_result"
    }
   ],
   "source": [
    "import pandas as pd\n",
    "company_list1 = pd.read_csv(\"complist.csv\")\n",
    "company_list1.head(20)"
   ]
  },
  {
   "cell_type": "code",
   "execution_count": 10,
   "id": "9b2a6df6",
   "metadata": {
    "scrolled": true
   },
   "outputs": [],
   "source": [
    "#company_list = pd.DataFrame(company_list1)\n",
    "#company_list.head()"
   ]
  },
  {
   "cell_type": "code",
   "execution_count": null,
   "id": "c649d7f7",
   "metadata": {},
   "outputs": [],
   "source": [
    "# open file once\n",
    "output = open(f\"resources/StockPrices.csv\", \"w\")\n",
    "# write header record once\n",
    "record = f\"url, address, revenue, employee_count\\n\"\n",
    "output.write(record)"
   ]
  },
  {
   "cell_type": "code",
   "execution_count": 22,
   "id": "740e0daa",
   "metadata": {},
   "outputs": [],
   "source": [
    "record_count = 0"
   ]
  },
  {
   "cell_type": "code",
   "execution_count": 23,
   "id": "13854d57",
   "metadata": {
    "scrolled": true
   },
   "outputs": [
    {
     "ename": "TypeError",
     "evalue": "'Response' object is not subscriptable",
     "output_type": "error",
     "traceback": [
      "\u001b[0;31m---------------------------------------------------------------------------\u001b[0m",
      "\u001b[0;31mTypeError\u001b[0m                                 Traceback (most recent call last)",
      "\u001b[0;32m/var/folders/s0/4pw78f5x71s0c1tjvk4mtcyr0000gn/T/ipykernel_17944/1701412152.py\u001b[0m in \u001b[0;36m<module>\u001b[0;34m\u001b[0m\n\u001b[1;32m     15\u001b[0m     \u001b[0;32mif\u001b[0m \u001b[0mrecord_count\u001b[0m \u001b[0;34m<=\u001b[0m \u001b[0;36m3\u001b[0m\u001b[0;34m:\u001b[0m\u001b[0;34m\u001b[0m\u001b[0;34m\u001b[0m\u001b[0m\n\u001b[1;32m     16\u001b[0m         \u001b[0mresponse\u001b[0m \u001b[0;34m=\u001b[0m \u001b[0mrequests\u001b[0m\u001b[0;34m.\u001b[0m\u001b[0mrequest\u001b[0m\u001b[0;34m(\u001b[0m\u001b[0;34m\"GET\"\u001b[0m\u001b[0;34m,\u001b[0m \u001b[0murl\u001b[0m\u001b[0;34m,\u001b[0m \u001b[0mheaders\u001b[0m\u001b[0;34m=\u001b[0m\u001b[0mheaders\u001b[0m\u001b[0;34m,\u001b[0m \u001b[0mparams\u001b[0m\u001b[0;34m=\u001b[0m\u001b[0mquerystring\u001b[0m\u001b[0;34m)\u001b[0m\u001b[0;34m\u001b[0m\u001b[0;34m\u001b[0m\u001b[0m\n\u001b[0;32m---> 17\u001b[0;31m         \u001b[0mprint\u001b[0m\u001b[0;34m(\u001b[0m\u001b[0mresponse\u001b[0m\u001b[0;34m[\u001b[0m\u001b[0;34m'data'\u001b[0m\u001b[0;34m]\u001b[0m\u001b[0;34m[\u001b[0m\u001b[0;34m'revenue'\u001b[0m\u001b[0;34m]\u001b[0m\u001b[0;34m)\u001b[0m\u001b[0;34m\u001b[0m\u001b[0;34m\u001b[0m\u001b[0m\n\u001b[0m\u001b[1;32m     18\u001b[0m \u001b[0;31m#     else:\u001b[0m\u001b[0;34m\u001b[0m\u001b[0;34m\u001b[0m\u001b[0;34m\u001b[0m\u001b[0m\n\u001b[1;32m     19\u001b[0m \u001b[0;31m#             record_count = 1\u001b[0m\u001b[0;34m\u001b[0m\u001b[0;34m\u001b[0m\u001b[0;34m\u001b[0m\u001b[0m\n",
      "\u001b[0;31mTypeError\u001b[0m: 'Response' object is not subscriptable"
     ]
    }
   ],
   "source": [
    "for record, row in company_list1.iterrows():\n",
    "    time.sleep(5)\n",
    "    record_count = record_count +1 \n",
    "    #print(querystring)\n",
    "    \n",
    "    url = \"https://companies-datas.p.rapidapi.com/api/v1/piloterr/domain\"\n",
    "\n",
    "    querystring = {\"url\":\"amazon.com\"}\n",
    "\n",
    "    headers = {\n",
    "    'x-rapidapi-host': \"companies-datas.p.rapidapi.com\",\n",
    "    'x-rapidapi-key': \"6089a5a035mshe25d894b9027095p18ee63jsn4aeaa3a5dcff\"\n",
    "    }\n",
    "    \n",
    "    if record_count <= 3:\n",
    "        response = requests.request(\"GET\", url, headers=headers, params=querystring)\n",
    "        print(response.json()['data']['revenue'])\n",
    "        print(response.json()['data']['size'])\n",
    "#     else:\n",
    "#             record_count = 1\n",
    "#             #print(f\"Just changed count to 1 ({record_count}), waiting for a DAY (or get charged).\")\n",
    "#             time.sleep(1440) # Sleep for A DAY\n",
    "#             #print(f\"okay, going to find ticker: {row['url']}\\n\")\n",
    "#             response = requests.request(\"GET\", url, headers=headers, params=row['url'])\n",
    "#             print(response.text)\n"
   ]
  },
  {
   "cell_type": "code",
   "execution_count": null,
   "id": "29f5aaf3",
   "metadata": {},
   "outputs": [],
   "source": []
  }
 ],
 "metadata": {
  "kernelspec": {
   "display_name": "Python 3 (ipykernel)",
   "language": "python",
   "name": "python3"
  },
  "language_info": {
   "codemirror_mode": {
    "name": "ipython",
    "version": 3
   },
   "file_extension": ".py",
   "mimetype": "text/x-python",
   "name": "python",
   "nbconvert_exporter": "python",
   "pygments_lexer": "ipython3",
   "version": "3.8.8"
  }
 },
 "nbformat": 4,
 "nbformat_minor": 5
}
